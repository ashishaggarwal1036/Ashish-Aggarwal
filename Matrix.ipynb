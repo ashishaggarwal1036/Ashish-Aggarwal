{
  "nbformat": 4,
  "nbformat_minor": 0,
  "metadata": {
    "colab": {
      "provenance": [],
      "authorship_tag": "ABX9TyODH4rm0845qqcXaKOYETT2",
      "include_colab_link": true
    },
    "kernelspec": {
      "name": "python3",
      "display_name": "Python 3"
    },
    "language_info": {
      "name": "python"
    }
  },
  "cells": [
    {
      "cell_type": "markdown",
      "metadata": {
        "id": "view-in-github",
        "colab_type": "text"
      },
      "source": [
        "<a href=\"https://colab.research.google.com/github/ashishaggarwal1036/Ashish-Aggarwal/blob/main/Matrix.ipynb\" target=\"_parent\"><img src=\"https://colab.research.google.com/assets/colab-badge.svg\" alt=\"Open In Colab\"/></a>"
      ]
    },
    {
      "cell_type": "code",
      "execution_count": 1,
      "metadata": {
        "id": "0RlczLl6pWdl"
      },
      "outputs": [],
      "source": [
        "import numpy as np\n",
        "import pandas as pd"
      ]
    },
    {
      "cell_type": "code",
      "source": [
        "# Subtraction in matrix"
      ],
      "metadata": {
        "id": "YMz0ASD-qHgy"
      },
      "execution_count": 7,
      "outputs": []
    },
    {
      "cell_type": "code",
      "source": [
        "revenue=np.array([[100,200,300,],[400,500,600],[700,800,900]])\n",
        "expenses=np.array([[10,20,30],[40,50,60],[70,80,90]])"
      ],
      "metadata": {
        "id": "II28p5IKpj41"
      },
      "execution_count": 4,
      "outputs": []
    },
    {
      "cell_type": "code",
      "source": [
        "profit=revenue-expenses\n",
        "profit"
      ],
      "metadata": {
        "colab": {
          "base_uri": "https://localhost:8080/"
        },
        "id": "E7xhsyFZp-eE",
        "outputId": "70673a29-70b5-41ee-8b76-e7fa2619fd52"
      },
      "execution_count": 6,
      "outputs": [
        {
          "output_type": "execute_result",
          "data": {
            "text/plain": [
              "array([[ 90, 180, 270],\n",
              "       [360, 450, 540],\n",
              "       [630, 720, 810]])"
            ]
          },
          "metadata": {},
          "execution_count": 6
        }
      ]
    },
    {
      "cell_type": "code",
      "source": [
        "# Multiplication in matrix"
      ],
      "metadata": {
        "id": "IyzVpk8DqL5t"
      },
      "execution_count": 8,
      "outputs": []
    },
    {
      "cell_type": "code",
      "source": [
        "unit_price=np.array([1000,5000,10000])\n",
        "unit=np.array([[23,56,89],[12,45,78],[32,65,98]])"
      ],
      "metadata": {
        "id": "UwUlZUQcqOA9"
      },
      "execution_count": 9,
      "outputs": []
    },
    {
      "cell_type": "code",
      "source": [
        "np.dot(unit_price,unit)"
      ],
      "metadata": {
        "colab": {
          "base_uri": "https://localhost:8080/"
        },
        "id": "ch1Rhq7cqjSd",
        "outputId": "fd5082c3-de49-443f-c90d-6a6579b5ac3d"
      },
      "execution_count": 12,
      "outputs": [
        {
          "output_type": "execute_result",
          "data": {
            "text/plain": [
              "array([ 403000,  931000, 1459000])"
            ]
          },
          "metadata": {},
          "execution_count": 12
        }
      ]
    }
  ]
}